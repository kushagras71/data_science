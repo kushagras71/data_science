{
 "cells": [
  {
   "cell_type": "markdown",
   "metadata": {},
   "source": [
    "### Neural Networks"
   ]
  },
  {
   "cell_type": "code",
   "execution_count": 2,
   "metadata": {},
   "outputs": [],
   "source": [
    "from scratch.linear_algebra import Vector, dot\n",
    "\n",
    "def step_function(x:float) -> float:\n",
    "    return 1.0 if x >= 0 else 0.0\n",
    "\n",
    "def perceptron_output(weights:Vector, bias:float,x:Vector) -> float:\n",
    "    calculations = dot(weights, x) + bias\n",
    "    return step_function(calculations)"
   ]
  },
  {
   "cell_type": "code",
   "execution_count": 6,
   "metadata": {},
   "outputs": [],
   "source": [
    "#AND_Gate\n",
    "and_weights = [2. , 2] \n",
    "and_bias = - 3.\n",
    "assert perceptron_output(and_weights, and_bias, [1, 1] ) == 1 \n",
    "assert perceptron_output(and_weights, and_bias, [0, 1] ) == 0 \n",
    "assert perceptron_output(and_weights, and_bias, [1, 0] ) == 0\n",
    "assert perceptron_output(and_weights, and_bias, [0, 0] ) == 0"
   ]
  },
  {
   "cell_type": "code",
   "execution_count": 9,
   "metadata": {},
   "outputs": [],
   "source": [
    "#OR_Gate\n",
    "or_weights = [2.,2]\n",
    "or_bias = -1\n",
    "assert perceptron_output(or_weights, or_bias, [1, 1] ) == 1 \n",
    "assert perceptron_output(or_weights, or_bias, [0, 1] ) == 1\n",
    "assert perceptron_output(or_weights, or_bias, [1, 0] ) == 1\n",
    "assert perceptron_output(or_weights, or_bias, [0, 0] ) == 0"
   ]
  },
  {
   "cell_type": "code",
   "execution_count": 11,
   "metadata": {},
   "outputs": [],
   "source": [
    "#NOT_Gate\n",
    "not_weights = [-2.]\n",
    "not_bias = 1.\n",
    "assert perceptron_output(not_weights, not_bias, [0] ) == 1\n",
    "assert perceptron_output(not_weights, not_bias, [1] ) == 0"
   ]
  },
  {
   "cell_type": "markdown",
   "metadata": {},
   "source": [
    "<b>Building the Feed Forward Neural Networks</b>"
   ]
  },
  {
   "cell_type": "code",
   "execution_count": 14,
   "metadata": {},
   "outputs": [],
   "source": [
    "import math\n",
    "\n",
    "def sigmoid(t:float) -> float:  # a smooth acivation function\n",
    "    return 1 / (1+math.exp(-t))\n",
    "\n",
    "def neuron_output(weights:Vector, inputs:Vector) -> float:\n",
    "    return sigmoid(dot(weights,inputs))"
   ]
  },
  {
   "cell_type": "code",
   "execution_count": 15,
   "metadata": {},
   "outputs": [],
   "source": [
    "from typing import List\n",
    "\n",
    "def feed_forward(neural_network: List[List[Vector]],\n",
    "                 input_vector: Vector) -> List[Vector]:\n",
    "    \n",
    "    outputs: List[Vector] = []\n",
    "    for layer in neural_network:\n",
    "        input_with_bias = input_vector + [1]\n",
    "        output = [neuron_output(neuron,input_with_bias)\n",
    "                  for neuron in layer]\n",
    "        outputs.append(output)\n",
    "        input_vector = output\n",
    "    return outputs"
   ]
  },
  {
   "cell_type": "code",
   "execution_count": 20,
   "metadata": {},
   "outputs": [],
   "source": [
    "xor_network = [\n",
    "    [[20.,20,-30],\n",
    "    [20.,20,-10]],\n",
    "    [[-60.,60,-30]]]\n",
    "\n",
    "assert 0.000 < feed_forward(xor_network,[0,0])[-1][0] < 0.001\n",
    "assert 0.999 < feed_forward(xor_network,[1,0])[-1][0] < 1.000\n",
    "assert 0.999 < feed_forward(xor_network,[0,1])[-1][0] < 1.000\n",
    "assert 0.000 < feed_forward(xor_network,[1,1])[-1][0] < 0.001"
   ]
  },
  {
   "cell_type": "code",
   "execution_count": null,
   "metadata": {},
   "outputs": [],
   "source": []
  }
 ],
 "metadata": {
  "kernelspec": {
   "display_name": "tensorflow_gpu",
   "language": "python",
   "name": "tensorflow_gpu"
  },
  "language_info": {
   "codemirror_mode": {
    "name": "ipython",
    "version": 3
   },
   "file_extension": ".py",
   "mimetype": "text/x-python",
   "name": "python",
   "nbconvert_exporter": "python",
   "pygments_lexer": "ipython3",
   "version": "3.7.9"
  }
 },
 "nbformat": 4,
 "nbformat_minor": 4
}
