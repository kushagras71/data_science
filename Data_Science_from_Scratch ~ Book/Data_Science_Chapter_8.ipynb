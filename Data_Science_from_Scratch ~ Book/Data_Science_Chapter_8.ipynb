{
 "cells": [
  {
   "cell_type": "markdown",
   "metadata": {},
   "source": [
    "<b>Gradient Descent</b>"
   ]
  },
  {
   "cell_type": "code",
   "execution_count": 11,
   "metadata": {},
   "outputs": [],
   "source": [
    "from typing import List\n",
    "Vector = List[float]\n",
    "def dot(v: Vector, w: Vector) -> float:\n",
    "    \"\"\"Computes v_1 * w_1 + ... + v_n * w_n\"\"\"\n",
    "    assert len(v) == len(w), \"vectors must be same length\"\n",
    "\n",
    "    return sum(v_i * w_i for v_i, w_i in zip(v, w))"
   ]
  },
  {
   "cell_type": "code",
   "execution_count": 12,
   "metadata": {},
   "outputs": [],
   "source": [
    "def sum_of_squares(v:Vector) -> float:\n",
    "    return dot(v,v)"
   ]
  },
  {
   "cell_type": "code",
   "execution_count": 13,
   "metadata": {},
   "outputs": [],
   "source": [
    "from typing import Callable\n",
    "\n",
    "def difference_quotient(f:Callable[[float],float],\n",
    "                        x: float,\n",
    "                        h: float) ->float:    \n",
    "    return (f(x+h)-f(x))/h"
   ]
  },
  {
   "cell_type": "code",
   "execution_count": 14,
   "metadata": {},
   "outputs": [],
   "source": [
    "def square(x:float) -> float:\n",
    "    return x*x\n"
   ]
  },
  {
   "cell_type": "code",
   "execution_count": 15,
   "metadata": {},
   "outputs": [],
   "source": [
    "def derivative(x:float) -> float:\n",
    "    return 2*x"
   ]
  },
  {
   "cell_type": "code",
   "execution_count": 16,
   "metadata": {},
   "outputs": [
    {
     "data": {
      "image/png": "[encoded data removed]",
      "text/plain": [
       "<Figure size 576x576 with 1 Axes>"
      ]
     },
     "metadata": {
      "needs_background": "light"
     },
     "output_type": "display_data"
    }
   ],
   "source": [
    "xs = range(-10,11)\n",
    "actuals = [derivative(x) for x in xs]\n",
    "estimates = [difference_quotient(square,x,h=0.001) for x in xs]\n",
    "\n",
    "import matplotlib.pyplot as plt\n",
    "plt.figure(figsize=(8,8))\n",
    "plt.title(\"Actual Derivative v/s Estimated Values\")\n",
    "plt.plot(xs,actuals,'r+',label=\"Actual Derivatives\")\n",
    "plt.plot(xs,estimates,'b*',label=\"Estimated Values\")\n",
    "plt.legend(loc=9)\n",
    "plt.show()"
   ]
  },
  {
   "cell_type": "markdown",
   "metadata": {},
   "source": [
    "Many Variables ---- <b>Partial Derivatives</b>"
   ]
  },
  {
   "cell_type": "code",
   "execution_count": 17,
   "metadata": {},
   "outputs": [],
   "source": [
    "def partial_difference_quotient(f:Callable[[Vector],float],\n",
    "                                v: Vector,\n",
    "                                i: int,\n",
    "                                h: float) -> float:\n",
    "    w = [v_j+(h if j == i else 0)\n",
    "       for j,v_j in enumerate(v)]\n",
    "    return (f(w) - f(v)) / h"
   ]
  },
  {
   "cell_type": "code",
   "execution_count": 18,
   "metadata": {},
   "outputs": [],
   "source": [
    "def estimate_gradient(f:Callable[[Vector],float],\n",
    "                       v: Vector,\n",
    "                       h: float = 0.0001):\n",
    "    return [partial_difference_quotient(f,v,i,h)\n",
    "           for i in rnage(len(v))]"
   ]
  },
  {
   "cell_type": "markdown",
   "metadata": {},
   "source": [
    "<b>Usig the Gradient</b>"
   ]
  },
  {
   "cell_type": "code",
   "execution_count": 19,
   "metadata": {},
   "outputs": [],
   "source": [
    "def add(v: Vector, w: Vector) -> Vector:\n",
    "    return [v_i + w_i for v_i, w_i in zip(v, w)]\n",
    "\n",
    "def scalar_multiply(c: float, v: Vector) -> Vector:\n",
    "    return [c * v_i for v_i in v]\n",
    "\n",
    "def distance(v: Vector, w: Vector) -> float:\n",
    "    return math.sqrt(squared_distance(v, w))"
   ]
  },
  {
   "cell_type": "code",
   "execution_count": 20,
   "metadata": {},
   "outputs": [
    {
     "name": "stdout",
     "output_type": "stream",
     "text": [
      "0 [5.759376182697086, -3.473752796692635, 1.6318501700146153]\n",
      "1 [5.644188659043144, -3.4042777407587823, 1.599213166614323]\n",
      "2 [5.531304885862282, -3.336192185943607, 1.5672289032820366]\n",
      "3 [5.420678788145036, -3.2694683422247346, 1.5358843252163958]\n",
      "4 [5.312265212382135, -3.20407897538024, 1.505166638712068]\n",
      "5 [5.2060199081344924, -3.1399973958726353, 1.4750633059378266]\n",
      "6 [5.101899509971803, -3.0771974479551827, 1.44556203981907]\n",
      "7 [4.999861519772367, -3.015653498996079, 1.4166507990226886]\n",
      "8 [4.899864289376919, -2.9553404290161573, 1.3883177830422349]\n",
      "9 [4.801867003589381, -2.8962336204358343, 1.3605514273813901]\n"
     ]
    }
   ],
   "source": [
    "import random\n",
    "def gradient_step(v: Vector, gradient: Vector, step_size: float) -> Vector:\n",
    "    assert len(v) == len(gradient)\n",
    "    step = scalar_multiply(step_size, gradient)\n",
    "    return add(v, step)\n",
    "\n",
    "def sum_of_squares_gradient(v:Vector) -> Vector:\n",
    "    return [2*v_i for v_i in v]\n",
    "\n",
    "v = [random.uniform(-10,10) for i in range(3)]\n",
    "\n",
    "for epoch in range(10):\n",
    "    grad = sum_of_squares_gradient(v)\n",
    "    v = gradient_step(v, grad, -0.01)\n",
    "    print(epoch, v)"
   ]
  },
  {
   "cell_type": "markdown",
   "metadata": {},
   "source": [
    "<b>Choosing the Right Step Size</b> -> <i>more of an art than a science</i>"
   ]
  },
  {
   "cell_type": "markdown",
   "metadata": {},
   "source": [
    "<b>Gradient Descent to Fit Models</b>"
   ]
  },
  {
   "cell_type": "code",
   "execution_count": 22,
   "metadata": {},
   "outputs": [],
   "source": [
    "inputs = [(x,20 * x+5) for x in range(-50,50)]"
   ]
  },
  {
   "cell_type": "code",
   "execution_count": 23,
   "metadata": {},
   "outputs": [],
   "source": [
    "def linear_gradient(x:float,y:float,theta:Vector) -> Vector:\n",
    "    slope,intercept = theta\n",
    "    predicted = slope * x + intercept\n",
    "    error = (predicted - y)\n",
    "    squared_error = error ** 2\n",
    "    grad = [2 * error * x, 2*error]\n",
    "    return grad"
   ]
  },
  {
   "cell_type": "code",
   "execution_count": 26,
   "metadata": {},
   "outputs": [],
   "source": [
    "def vector_mean(vectors: List[Vector]) -> Vector:\n",
    "    n = len(vectors)\n",
    "    return scalar_multiply(1/n, vector_sum(vectors))\n",
    "\n",
    "def vector_sum(vectors: List[Vector]) -> Vector:\n",
    "    \"\"\"Sums all corresponding elements\"\"\"\n",
    "    # Check that vectors is not empty\n",
    "    assert vectors, \"no vectors provided!\"\n",
    "\n",
    "    # Check the vectors are all the same size\n",
    "    num_elements = len(vectors[0])\n",
    "    assert all(len(v) == num_elements for v in vectors), \"different sizes!\"\n",
    "\n",
    "    # the i-th element of the result is the sum of every vector[i]\n",
    "    return [sum(vector[i] for vector in vectors)\n",
    "            for i in range(num_elements)]"
   ]
  },
  {
   "cell_type": "code",
   "execution_count": 28,
   "metadata": {},
   "outputs": [
    {
     "name": "stdout",
     "output_type": "stream",
     "text": [
      "0 [32.768944413808896, -0.9668544666460104]\n",
      "1 [11.477147221522824, -0.9421518132989095]\n",
      "2 [25.678800651430983, -0.938790362450789]\n",
      "3 [16.206301175133085, -0.9212339810744563]\n",
      "4 [22.524475882205156, -0.9131852119371743]\n",
      "5 [18.310261401357224, -0.8988343656310948]\n",
      "6 [21.1211568109291, -0.8887264354984754]\n",
      "7 [19.24629968067479, -0.8758278258165494]\n",
      "8 [20.4968422851641, -0.8648298704842414]\n",
      "9 [19.66274136592506, -0.8526033684581089]\n",
      "10 [20.219098905559527, -0.8412354203552677]\n",
      "11 [19.848019794571442, -0.8293338506089977]\n",
      "12 [20.09554146317024, -0.8178271631132082]\n",
      "13 [19.930456016902337, -0.8060959673238116]\n",
      "14 [20.04057974075882, -0.7945533193722617]\n"
     ]
    }
   ],
   "source": [
    "theta = [random.uniform(-1,1),random.uniform(-1,1)]\n",
    "learning_rate = 0.001\n",
    "for epoch in range(15):\n",
    "    grad = vector_mean([linear_gradient(x,y,theta) for x,y in inputs])\n",
    "    theta = gradient_step(theta,grad,-learning_rate)\n",
    "    print(epoch,theta)\n",
    "    \n",
    "slope, intercept = theta"
   ]
  },
  {
   "cell_type": "markdown",
   "metadata": {},
   "source": [
    "<b>Mini-Batch Gradient Descent </b>"
   ]
  },
  {
   "cell_type": "code",
   "execution_count": 29,
   "metadata": {},
   "outputs": [],
   "source": [
    "from typing import TypeVar, List, Iterator\n",
    "T = TypeVar('T') \n",
    "\n",
    "def minibatches(dataset: List[T],\n",
    "                batch_size: int,\n",
    "                shuffle: bool = True) -> Iterator[List[T]]:\n",
    "    batch_starts = [start for start in range(0, len(dataset), batch_size)]\n",
    "    if shuffle: random.shuffle(batch_starts) # shuffle the batches\n",
    "    for start in batch_starts:\n",
    "        end = start + batch_size\n",
    "        yield dataset[start:end]"
   ]
  },
  {
   "cell_type": "code",
   "execution_count": 31,
   "metadata": {},
   "outputs": [
    {
     "name": "stdout",
     "output_type": "stream",
     "text": [
      "0 [19.442366849124525, 0.17937771259215868]\n",
      "1 [20.13985221400082, 0.33851373390703654]\n",
      "2 [19.95720731623487, 0.36022849438563986]\n",
      "3 [20.00685564730041, 0.5683869146161209]\n",
      "4 [19.79309155513511, 0.5844044234426855]\n",
      "5 [19.807582962197415, 0.7830717798155823]\n",
      "6 [20.003602475194814, 0.8135493456149984]\n",
      "7 [20.158978312021784, 0.8576480248121837]\n",
      "8 [19.849815491768524, 1.0374233986594974]\n",
      "9 [19.85582847581327, 1.0617795817691433]\n",
      "10 [19.76577224277261, 1.0707167237261985]\n",
      "11 [19.99804193718898, 1.097177161770786]\n",
      "12 [19.070434199641397, 1.1440911673788632]\n",
      "13 [20.070072485706454, 1.3715343807673048]\n",
      "14 [19.96376002631425, 1.386162523108193]\n"
     ]
    }
   ],
   "source": [
    "theta = [random.uniform(-1, 1), random.uniform(-1, 1)]\n",
    "for epoch in range(15):\n",
    "    for batch in minibatches(inputs, batch_size=20):\n",
    "        grad = vector_mean([linear_gradient(x, y, theta) for x, y in batch])\n",
    "        theta = gradient_step(theta, grad, -learning_rate)\n",
    "    print(epoch, theta)\n",
    "\n",
    "slope , intercept = theta"
   ]
  },
  {
   "cell_type": "markdown",
   "metadata": {},
   "source": [
    "<b>Stochastic Gradient Decent</b>"
   ]
  },
  {
   "cell_type": "code",
   "execution_count": 33,
   "metadata": {},
   "outputs": [
    {
     "name": "stdout",
     "output_type": "stream",
     "text": [
      "0 [20.08738982055853, 0.6504289012797821]\n",
      "1 [20.083639853040975, 0.8370418807053953]\n",
      "2 [20.08005138657032, 1.015648448982638]\n",
      "3 [20.076616874242383, 1.1865921232167718]\n",
      "4 [20.073329736796794, 1.3502016707595705]\n",
      "5 [20.070183601548678, 1.506791753067288]\n",
      "6 [20.06717246701232, 1.6566635314653066]\n",
      "7 [20.06429051883905, 1.800105246823497]\n",
      "8 [20.06153220355891, 1.9373927726740219]\n",
      "9 [20.058892255162544, 2.068790147170838]\n",
      "10 [20.05636554049442, 2.194550079819815]\n",
      "11 [20.05394724773175, 2.31491443786529]\n",
      "12 [20.051632705614203, 2.43011471200704]\n",
      "13 [20.049417489267622, 2.540372461298794]\n",
      "14 [20.047297275951337, 2.6458997382979095]\n"
     ]
    }
   ],
   "source": [
    "theta = [random.uniform(-1, 1), random.uniform(-1, 1)]\n",
    "for epoch in range(15):\n",
    "    for x, y in inputs:\n",
    "        grad = linear_gradient(x, y, theta)\n",
    "        theta = gradient_step(theta, grad, -learning_rate)\n",
    "    print(epoch, theta)\n",
    "\n",
    "slope, intercept = theta"
   ]
  }
 ],
 "metadata": {
  "kernelspec": {
   "display_name": "deep_learning",
   "language": "python",
   "name": "deep_learning"
  },
  "language_info": {
   "codemirror_mode": {
    "name": "ipython",
    "version": 3
   },
   "file_extension": ".py",
   "mimetype": "text/x-python",
   "name": "python",
   "nbconvert_exporter": "python",
   "pygments_lexer": "ipython3",
   "version": "3.7.7"
  }
 },
 "nbformat": 4,
 "nbformat_minor": 4
}
