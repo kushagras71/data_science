{
 "cells": [
  {
   "cell_type": "markdown",
   "metadata": {},
   "source": [
    "<b>Hypothesis and Inference</b>"
   ]
  },
  {
   "cell_type": "code",
   "execution_count": 11,
   "metadata": {},
   "outputs": [],
   "source": [
    "from typing import Tuple\n",
    "import math\n",
    "def normal_approximation_to_binomial(n: int, p:float) -> Tuple[float,float]:\n",
    "    mu = p * n\n",
    "    sigma = math.sqrt(p*(1-p)*n)\n",
    "    return mu, sigma"
   ]
  },
  {
   "cell_type": "code",
   "execution_count": 12,
   "metadata": {},
   "outputs": [],
   "source": [
    "def normal_cdf(x: float, mu: float = 0, sigma: float = 1) -> float:\n",
    "    return (1 + math.erf((x - mu) / math.sqrt(2) / sigma)) / 2"
   ]
  },
  {
   "cell_type": "code",
   "execution_count": 13,
   "metadata": {},
   "outputs": [],
   "source": [
    "normal_probability_below = normal_cdf\n",
    "def normal_probability_above(lo:float,\n",
    "                             mu: float=0,\n",
    "                             sigma: float=1) -> float:\n",
    "    return 1 - normal_cdf(lo,mu,sigma)\n",
    "\n",
    "def normal_probability_between(lo:float,\n",
    "                               hi: float,\n",
    "                               mu: float=0,\n",
    "                             sigma: float=1) -> float:\n",
    "    return normal_cdf(hi,mu,sigma) - normal_cdf(lo,mu,sigma)\n",
    "\n",
    "def normal_probability_outside(lo:float,\n",
    "                               hi: float, \n",
    "                               mu: float=0,\n",
    "                             sigma: float=1) -> float:\n",
    "    return 1 - normal_probability_between(lo,hi,mu,sigma)"
   ]
  },
  {
   "cell_type": "code",
   "execution_count": 14,
   "metadata": {},
   "outputs": [],
   "source": [
    "def inverse_normal_cdf(p: float,\n",
    "                       mu: float = 0,\n",
    "                       sigma: float = 1,\n",
    "                       tolerance: float = 0.00001) -> float:\n",
    "\n",
    "    if mu != 0 or sigma != 1:\n",
    "        return mu + sigma * inverse_normal_cdf(p, tolerance=tolerance)\n",
    "\n",
    "    low_z = -10.0                      \n",
    "    hi_z  =  10.0                      \n",
    "    while hi_z - low_z > tolerance:\n",
    "        mid_z = (low_z + hi_z) / 2     \n",
    "        mid_p = normal_cdf(mid_z)      \n",
    "        if mid_p < p:\n",
    "            low_z = mid_z              \n",
    "        else:\n",
    "            hi_z = mid_z               \n",
    "\n",
    "    return mid_z"
   ]
  },
  {
   "cell_type": "code",
   "execution_count": 15,
   "metadata": {},
   "outputs": [],
   "source": [
    "def normal_upper_bound(proability:float,\n",
    "                     mu: float=0,\n",
    "                      sigma: float=1) -> float:\n",
    "    return inverse_normal_cdf(proability,mu,sigma)\n",
    "\n",
    "\n",
    "def normal_lower_bound(proability:float,\n",
    "                     mu: float=0,\n",
    "                      sigma: float=1) -> float:\n",
    "    return inverse_normal_cdf(1- proability,mu,sigma)\n",
    "\n",
    "\n",
    "def normal_two_sided_bounds(proability:float,\n",
    "                           mu:float=0,\n",
    "                           sigma: float = 1) -> Tuple[float,float]:\n",
    "    tail_probability = (1-proability) / 2\n",
    "    upper_bound = normal_upper_bound(tail_probability,mu,sigma)\n",
    "    lower_bound = normal_lower_bound(tail_probability,mu,sigma)\n",
    "    return upper_bound,lower_bound"
   ]
  },
  {
   "cell_type": "code",
   "execution_count": 25,
   "metadata": {},
   "outputs": [
    {
     "name": "stdout",
     "output_type": "stream",
     "text": [
      "500.0     15.811388300841896\n"
     ]
    }
   ],
   "source": [
    "mu_0, sigma_0 = normal_approximation_to_binomial(1000,0.5)\n",
    "print(mu_0, \"   \",sigma_0)"
   ]
  },
  {
   "cell_type": "code",
   "execution_count": 26,
   "metadata": {},
   "outputs": [
    {
     "name": "stdout",
     "output_type": "stream",
     "text": [
      "469.01026640487555     530.9897335951244\n"
     ]
    }
   ],
   "source": [
    "lower_bound, upper_bound = normal_two_sided_bounds(0.95, mu_0, sigma_0)\n",
    "print(lower_bound,\"   \",upper_bound)"
   ]
  },
  {
   "cell_type": "code",
   "execution_count": 27,
   "metadata": {},
   "outputs": [
    {
     "name": "stdout",
     "output_type": "stream",
     "text": [
      "469.01026640487555     530.9897335951244\n"
     ]
    }
   ],
   "source": [
    "lo,hi = normal_two_sided_bounds(0.95,mu_0,sigma_0)\n",
    "print(lo,\"   \",hi)"
   ]
  },
  {
   "cell_type": "code",
   "execution_count": 28,
   "metadata": {},
   "outputs": [
    {
     "name": "stdout",
     "output_type": "stream",
     "text": [
      "550.0     15.732132722552274\n"
     ]
    }
   ],
   "source": [
    "mu_1,sigma_1 = normal_approximation_to_binomial(1000,0.55)\n",
    "print(mu_1,\"   \",sigma_1)"
   ]
  },
  {
   "cell_type": "code",
   "execution_count": 29,
   "metadata": {},
   "outputs": [
    {
     "name": "stdout",
     "output_type": "stream",
     "text": [
      "0.8865480012953671\n"
     ]
    }
   ],
   "source": [
    "type_2_probability = normal_probability_between(lo,hi,mu_1,sigma_1)\n",
    "power = 1 - type_2_probability\n",
    "print(power)"
   ]
  },
  {
   "cell_type": "code",
   "execution_count": 30,
   "metadata": {},
   "outputs": [
    {
     "name": "stdout",
     "output_type": "stream",
     "text": [
      "526.0073585242053\n"
     ]
    }
   ],
   "source": [
    "hi = normal_upper_bound(0.95,mu_0,sigma_0)\n",
    "print(hi)"
   ]
  },
  {
   "cell_type": "code",
   "execution_count": 31,
   "metadata": {},
   "outputs": [
    {
     "name": "stdout",
     "output_type": "stream",
     "text": [
      "0.9363794803307173\n"
     ]
    }
   ],
   "source": [
    "type_2_probability = normal_probability_below(hi,mu_1,sigma_1)\n",
    "power = 1 -  type_2_probability\n",
    "print(power)"
   ]
  },
  {
   "cell_type": "code",
   "execution_count": null,
   "metadata": {},
   "outputs": [],
   "source": []
  }
 ],
 "metadata": {
  "kernelspec": {
   "display_name": "deep_learning",
   "language": "python",
   "name": "deep_learning"
  },
  "language_info": {
   "codemirror_mode": {
    "name": "ipython",
    "version": 3
   },
   "file_extension": ".py",
   "mimetype": "text/x-python",
   "name": "python",
   "nbconvert_exporter": "python",
   "pygments_lexer": "ipython3",
   "version": "3.7.7"
  }
 },
 "nbformat": 4,
 "nbformat_minor": 4
}
