{
 "cells": [
  {
   "cell_type": "markdown",
   "metadata": {},
   "source": [
    "<b>Linear Regression</b> - using correlation to find relationship between different data attributes and also understand the nature of the relationship.\n",
    "<br>\n",
    "a - alpha\n",
    "b - beta \n",
    "i - ith user\n",
    "e - error term\n",
    "\n",
    "<b>Equation</b> - $y_{i}$  = b($x_{i}$) + a + $e_{i}$"
   ]
  },
  {
   "cell_type": "code",
   "execution_count": 1,
   "metadata": {},
   "outputs": [],
   "source": [
    "def predict(alpha:float, beta:float, x_i:float) -> float:\n",
    "    return beta * x_i + alpha"
   ]
  },
  {
   "cell_type": "code",
   "execution_count": 2,
   "metadata": {},
   "outputs": [],
   "source": [
    "def error(alpha:float, beta:float, x_i:float, y_i:float) -> float:\n",
    "    return predict(alpha, beta,x_i) - y_i"
   ]
  },
  {
   "cell_type": "code",
   "execution_count": 3,
   "metadata": {},
   "outputs": [],
   "source": [
    "from scratch.linear_algebra import Vector\n",
    "\n",
    "def sum_of_sqerror(alpha: float, beta:float, x:Vector, y:Vector) -> float:\n",
    "    return sum(error(alpha, beta, x_i,y_i)**2\n",
    "              for x_i,y_i in zip(x,y))"
   ]
  },
  {
   "cell_type": "code",
   "execution_count": 6,
   "metadata": {},
   "outputs": [],
   "source": [
    "from typing import Tuple\n",
    "from scratch.linear_algebra import Vector\n",
    "from scratch.statistics import correlation, standard_deviation, mean"
   ]
  },
  {
   "cell_type": "code",
   "execution_count": 7,
   "metadata": {},
   "outputs": [],
   "source": [
    "def least_squares_fit(x:Vector,y:Vector) -> Tuple[float,float]:\n",
    "    beta = correlation(x,y) * standard_deviation(y) / standard_deviation(x)\n",
    "    alpha = mean(y) - beta * mean(x)\n",
    "    return alpha, beta"
   ]
  },
  {
   "cell_type": "code",
   "execution_count": 9,
   "metadata": {},
   "outputs": [],
   "source": [
    "x = [i for i in range(-100,110,10)]\n",
    "y = [3*i-5 for i in x]\n",
    "assert least_squares_fit(x,y) == (-5,3)"
   ]
  },
  {
   "cell_type": "code",
   "execution_count": 10,
   "metadata": {},
   "outputs": [],
   "source": [
    "from scratch.statistics import num_friends_good,daily_minutes_good\n",
    "\n",
    "alpha, beta = least_squares_fit(num_friends_good,daily_minutes_good)\n",
    "assert 22.9 < alpha < 23.0\n",
    "assert 0.9 < beta < 0.905"
   ]
  },
  {
   "cell_type": "code",
   "execution_count": 11,
   "metadata": {},
   "outputs": [],
   "source": [
    "from scratch.statistics import de_mean\n",
    "\n",
    "def total_sum_of_squares(y:Vector) -> float:\n",
    "    return sum(v**2 for v in de_mean(y))\n",
    "\n",
    "def r_squared(alpha: float, beta:float, x:Vector, y:Vector) -> float:\n",
    "    return 1.0 - (sum_of_sqerror(alpha,beta,x,y)/\n",
    "                 total_sum_of_squares(y))\n",
    "\n",
    "rsq = r_squared(alpha,beta,num_friends_good,daily_minutes_good)\n",
    "assert 0.328 < rsq < 0.330"
   ]
  },
  {
   "cell_type": "code",
   "execution_count": 13,
   "metadata": {},
   "outputs": [
    {
     "name": "stderr",
     "output_type": "stream",
     "text": [
      "loss:13196.619: 100%|███████████████████████████████████████████████████████████| 10000/10000 [00:16<00:00, 588.41it/s]\n"
     ]
    }
   ],
   "source": [
    "import random \n",
    "import tqdm\n",
    "from scratch.gradient_descent import gradient_step\n",
    "\n",
    "num_epochs = 10000\n",
    "random.seed(0)\n",
    "guess = [random.random(), random.random()]\n",
    "learning_rate = 0.00001\n",
    "with tqdm.trange(num_epochs) as t:\n",
    "    for _ in t:\n",
    "        alpha , beta = guess\n",
    "        grad_a = sum(2*error(alpha, beta, x_i,y_i)\n",
    "                    for x_i,y_i in zip(num_friends_good,\n",
    "                                      daily_minutes_good))\n",
    "        grad_b = sum(2*error(alpha,beta, x_i,y_i)*x_i\n",
    "                    for x_i,y_i in zip(num_friends_good,\n",
    "                                      daily_minutes_good))\n",
    "        loss = sum_of_sqerror(alpha,beta,\n",
    "                              num_friends_good,daily_minutes_good)\n",
    "        t.set_description(f\"loss:{loss:.3f}\")\n",
    "        guess = gradient_step(guess,[grad_a,grad_b],-learning_rate)\n",
    "        \n",
    "alpha, beta = guess\n",
    "assert 22.9 < alpha < 23.0\n",
    "assert 0.9 < beta < 0.905"
   ]
  },
  {
   "cell_type": "code",
   "execution_count": null,
   "metadata": {},
   "outputs": [],
   "source": []
  }
 ],
 "metadata": {
  "kernelspec": {
   "display_name": "tensorflow_gpu",
   "language": "python",
   "name": "tensorflow_gpu"
  },
  "language_info": {
   "codemirror_mode": {
    "name": "ipython",
    "version": 3
   },
   "file_extension": ".py",
   "mimetype": "text/x-python",
   "name": "python",
   "nbconvert_exporter": "python",
   "pygments_lexer": "ipython3",
   "version": "3.7.9"
  }
 },
 "nbformat": 4,
 "nbformat_minor": 4
}
