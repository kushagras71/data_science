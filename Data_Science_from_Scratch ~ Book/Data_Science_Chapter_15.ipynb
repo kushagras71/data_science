{
 "cells": [
  {
   "cell_type": "markdown",
   "metadata": {},
   "source": [
    "### Multiple Regression\n",
    "<br>\n",
    "a - alpha<br>\n",
    "b - beta<br>\n",
    "i - ith user<br>\n",
    "e - error term<br>\n",
    "\n",
    "Equation - $y_{i}$ = $a_{}$ + $b_{1}$$x_{i1}$ + $b_{2}$$x_{i2}$ + ... + $b_{k}$$x_{ik}$ + $e_{i}$"
   ]
  },
  {
   "cell_type": "markdown",
   "metadata": {},
   "source": [
    "beta  = [alpha, beta_1, beta_2,..., beta_k]<br>\n",
    "x_i = [1, x_i1, x_i2,..., x_ik]<br>\n",
    "<br>"
   ]
  },
  {
   "cell_type": "code",
   "execution_count": 29,
   "metadata": {},
   "outputs": [],
   "source": [
    "inputs = [[123,123,243],[234,455,578],[454,565,900],[705,456,890]]"
   ]
  },
  {
   "cell_type": "code",
   "execution_count": 30,
   "metadata": {},
   "outputs": [],
   "source": [
    "from typing import List\n",
    "from scratch.linear_algebra import dot, Vector\n",
    "\n",
    "def predict(x:Vector, beta: Vector) -> float:\n",
    "    return dot(x,beta)\n",
    "\n",
    "def error(x:Vector, y:float, beta:Vector) -> float:\n",
    "    return predict(x,beta) - y\n",
    "\n",
    "def squared_error(x:Vector, y:float, beta:Vector) -> float:\n",
    "    return error(x,y,beta) ** 2\n",
    "\n",
    "x = [1,2,3]\n",
    "y = 30\n",
    "beta = [4,4,4]\n",
    "\n",
    "assert error(x,y,beta) == -6\n",
    "assert squared_error(x,y,beta) == 36"
   ]
  },
  {
   "cell_type": "code",
   "execution_count": 31,
   "metadata": {},
   "outputs": [],
   "source": [
    "def sqerror_gradient(x:Vector, y:float, beta:Vector) -> Vector:\n",
    "    err = error(x,y,beta)\n",
    "    return [2*err*x_i for x_i in x]\n",
    "\n",
    "assert sqerror_gradient(x,y,beta) == [-12,-24,-36]"
   ]
  },
  {
   "cell_type": "code",
   "execution_count": 32,
   "metadata": {},
   "outputs": [],
   "source": [
    "import random\n",
    "import tqdm\n",
    "from scratch.linear_algebra import vector_mean\n",
    "from scratch.gradient_descent import gradient_step"
   ]
  },
  {
   "cell_type": "code",
   "execution_count": 33,
   "metadata": {},
   "outputs": [],
   "source": [
    "def least_squares_fit(xs:List[Vector],\n",
    "                     ys:List[float],\n",
    "                     learning_rate: float=0.001,\n",
    "                     num_steps: int = 1000,\n",
    "                     batch_size: int = 1) -> Vector:\n",
    "    guess = [random.random() for _ in xs[0]]\n",
    "    for _ in tqdm.trange(num_steps, desc='least squares fit'):\n",
    "        for start in range(0, len(x), batch_size):\n",
    "            batch_xs = xs[start:start+batch_size]\n",
    "            batch_ys = ys[start:start+batch_size]\n",
    "            gradient = vector_mean([ sqerror_gradient(x,y,guess)\n",
    "                                      for x,y in zip(batch_xs,batch_ys)])\n",
    "            guess = gradient_step(guess,gradient,-learning_rate)\n",
    "    return guess"
   ]
  },
  {
   "cell_type": "code",
   "execution_count": 34,
   "metadata": {},
   "outputs": [
    {
     "name": "stderr",
     "output_type": "stream",
     "text": [
      "least squares fit: 100%|████████████████████████████████████████████████████████| 5000/5000 [00:00<00:00, 65964.98it/s]\n"
     ]
    }
   ],
   "source": [
    "from scratch.statistics import daily_minutes_good\n",
    "from scratch.gradient_descent import gradient_step\n",
    "\n",
    "random.seed(0)\n",
    "learning_rate = 0.001\n",
    "beta = least_squares_fit(inputs,daily_minutes_good,learning_rate,5000,25)\n",
    "# ERROR ( no 'inputs' variable defined )"
   ]
  },
  {
   "cell_type": "code",
   "execution_count": 38,
   "metadata": {},
   "outputs": [
    {
     "ename": "TypeError",
     "evalue": "unsupported operand type(s) for ** or pow(): 'list' and 'int'",
     "output_type": "error",
     "traceback": [
      "\u001b[1;31m---------------------------------------------------------------------------\u001b[0m",
      "\u001b[1;31mTypeError\u001b[0m                                 Traceback (most recent call last)",
      "\u001b[1;32m<ipython-input-38-67788dfb75d4>\u001b[0m in \u001b[0;36m<module>\u001b[1;34m\u001b[0m\n\u001b[0;32m      6\u001b[0m                                for x,y in zip(xs,ys))\n\u001b[0;32m      7\u001b[0m     \u001b[1;32mreturn\u001b[0m \u001b[1;36m1.0\u001b[0m \u001b[1;33m-\u001b[0m \u001b[0msum_of_squared_errors\u001b[0m\u001b[1;33m/\u001b[0m \u001b[0mtotal_sum_of_squares\u001b[0m\u001b[1;33m(\u001b[0m\u001b[0mys\u001b[0m\u001b[1;33m)\u001b[0m\u001b[1;33m\u001b[0m\u001b[1;33m\u001b[0m\u001b[0m\n\u001b[1;32m----> 8\u001b[1;33m \u001b[1;32massert\u001b[0m \u001b[1;36m0.67\u001b[0m \u001b[1;33m<\u001b[0m \u001b[0mmultiple_r_squared\u001b[0m\u001b[1;33m(\u001b[0m\u001b[0minputs\u001b[0m\u001b[1;33m,\u001b[0m \u001b[0mdaily_minutes_good\u001b[0m\u001b[1;33m,\u001b[0m \u001b[0mbeta\u001b[0m\u001b[1;33m)\u001b[0m \u001b[1;33m<\u001b[0m \u001b[1;36m0.68\u001b[0m\u001b[1;33m\u001b[0m\u001b[1;33m\u001b[0m\u001b[0m\n\u001b[0m\u001b[0;32m      9\u001b[0m \u001b[1;31m# ERROR ( no 'inputs' variable defined )\u001b[0m\u001b[1;33m\u001b[0m\u001b[1;33m\u001b[0m\u001b[1;33m\u001b[0m\u001b[0m\n",
      "\u001b[1;32m<ipython-input-38-67788dfb75d4>\u001b[0m in \u001b[0;36mmultiple_r_squared\u001b[1;34m(xs, ys, beta)\u001b[0m\n\u001b[0;32m      4\u001b[0m \u001b[1;32mdef\u001b[0m \u001b[0mmultiple_r_squared\u001b[0m\u001b[1;33m(\u001b[0m\u001b[0mxs\u001b[0m\u001b[1;33m:\u001b[0m\u001b[0mVector\u001b[0m\u001b[1;33m,\u001b[0m \u001b[0mys\u001b[0m\u001b[1;33m:\u001b[0m\u001b[0mVector\u001b[0m\u001b[1;33m,\u001b[0m \u001b[0mbeta\u001b[0m\u001b[1;33m:\u001b[0m\u001b[0mVector\u001b[0m\u001b[1;33m)\u001b[0m \u001b[1;33m->\u001b[0m \u001b[0mfloat\u001b[0m\u001b[1;33m:\u001b[0m\u001b[1;33m\u001b[0m\u001b[1;33m\u001b[0m\u001b[0m\n\u001b[0;32m      5\u001b[0m     sum_of_squared_errors = sum(error(x,y,beta**2)\n\u001b[1;32m----> 6\u001b[1;33m                                for x,y in zip(xs,ys))\n\u001b[0m\u001b[0;32m      7\u001b[0m     \u001b[1;32mreturn\u001b[0m \u001b[1;36m1.0\u001b[0m \u001b[1;33m-\u001b[0m \u001b[0msum_of_squared_errors\u001b[0m\u001b[1;33m/\u001b[0m \u001b[0mtotal_sum_of_squares\u001b[0m\u001b[1;33m(\u001b[0m\u001b[0mys\u001b[0m\u001b[1;33m)\u001b[0m\u001b[1;33m\u001b[0m\u001b[1;33m\u001b[0m\u001b[0m\n\u001b[0;32m      8\u001b[0m \u001b[1;32massert\u001b[0m \u001b[1;36m0.67\u001b[0m \u001b[1;33m<\u001b[0m \u001b[0mmultiple_r_squared\u001b[0m\u001b[1;33m(\u001b[0m\u001b[0minputs\u001b[0m\u001b[1;33m,\u001b[0m \u001b[0mdaily_minutes_good\u001b[0m\u001b[1;33m,\u001b[0m \u001b[0mbeta\u001b[0m\u001b[1;33m)\u001b[0m \u001b[1;33m<\u001b[0m \u001b[1;36m0.68\u001b[0m\u001b[1;33m\u001b[0m\u001b[1;33m\u001b[0m\u001b[0m\n",
      "\u001b[1;32m<ipython-input-38-67788dfb75d4>\u001b[0m in \u001b[0;36m<genexpr>\u001b[1;34m(.0)\u001b[0m\n\u001b[0;32m      4\u001b[0m \u001b[1;32mdef\u001b[0m \u001b[0mmultiple_r_squared\u001b[0m\u001b[1;33m(\u001b[0m\u001b[0mxs\u001b[0m\u001b[1;33m:\u001b[0m\u001b[0mVector\u001b[0m\u001b[1;33m,\u001b[0m \u001b[0mys\u001b[0m\u001b[1;33m:\u001b[0m\u001b[0mVector\u001b[0m\u001b[1;33m,\u001b[0m \u001b[0mbeta\u001b[0m\u001b[1;33m:\u001b[0m\u001b[0mVector\u001b[0m\u001b[1;33m)\u001b[0m \u001b[1;33m->\u001b[0m \u001b[0mfloat\u001b[0m\u001b[1;33m:\u001b[0m\u001b[1;33m\u001b[0m\u001b[1;33m\u001b[0m\u001b[0m\n\u001b[0;32m      5\u001b[0m     sum_of_squared_errors = sum(error(x,y,beta**2)\n\u001b[1;32m----> 6\u001b[1;33m                                for x,y in zip(xs,ys))\n\u001b[0m\u001b[0;32m      7\u001b[0m     \u001b[1;32mreturn\u001b[0m \u001b[1;36m1.0\u001b[0m \u001b[1;33m-\u001b[0m \u001b[0msum_of_squared_errors\u001b[0m\u001b[1;33m/\u001b[0m \u001b[0mtotal_sum_of_squares\u001b[0m\u001b[1;33m(\u001b[0m\u001b[0mys\u001b[0m\u001b[1;33m)\u001b[0m\u001b[1;33m\u001b[0m\u001b[1;33m\u001b[0m\u001b[0m\n\u001b[0;32m      8\u001b[0m \u001b[1;32massert\u001b[0m \u001b[1;36m0.67\u001b[0m \u001b[1;33m<\u001b[0m \u001b[0mmultiple_r_squared\u001b[0m\u001b[1;33m(\u001b[0m\u001b[0minputs\u001b[0m\u001b[1;33m,\u001b[0m \u001b[0mdaily_minutes_good\u001b[0m\u001b[1;33m,\u001b[0m \u001b[0mbeta\u001b[0m\u001b[1;33m)\u001b[0m \u001b[1;33m<\u001b[0m \u001b[1;36m0.68\u001b[0m\u001b[1;33m\u001b[0m\u001b[1;33m\u001b[0m\u001b[0m\n",
      "\u001b[1;31mTypeError\u001b[0m: unsupported operand type(s) for ** or pow(): 'list' and 'int'"
     ]
    }
   ],
   "source": [
    "inputs = [[123,123,243],[234,455,578],[454,565,900],[705,456,890]]\n",
    "# inputs = [123,123,243,234,455,578,454,565,900,705,456,890]\n",
    "from scratch.simple_linear_regression import total_sum_of_squares\n",
    "def multiple_r_squared(xs:List[Vector], ys:Vector, beta:Vector) -> float:\n",
    "    sum_of_squared_errors = sum(error(x,y,beta**2)\n",
    "                               for x,y in zip(xs,ys))\n",
    "    return 1.0 - sum_of_squared_errors/ total_sum_of_squares(ys)\n",
    "assert 0.67 < multiple_r_squared(inputs, daily_minutes_good, beta) < 0.68\n",
    "# ERROR ( no 'inputs' variable defined )"
   ]
  },
  {
   "cell_type": "markdown",
   "metadata": {},
   "source": [
    "<b>Digression: The Bootstrap</b>"
   ]
  },
  {
   "cell_type": "code",
   "execution_count": 39,
   "metadata": {},
   "outputs": [],
   "source": [
    "from typing import TypeVar, Callable\n",
    "X = TypeVar('X')\n",
    "Stat = TypeVar('Stat')\n",
    "\n",
    "def bootstrap_sample(data:List[X]) -> List[X]:\n",
    "    return [random.choice(data) for _ in data]\n",
    "\n",
    "def bootstrap_statistics(data:List[X],\n",
    "                        stats_fn: Callable[[List[X]],Stat],\n",
    "                        num_samples: int) -> List[Stat]:\n",
    "    return [stats_fn(bootstrap_sample(data)) for _ in range(num_samples)]\n",
    "                 \n"
   ]
  },
  {
   "cell_type": "code",
   "execution_count": 40,
   "metadata": {},
   "outputs": [],
   "source": [
    "close_to_100 = [99.5 + random.random() for _ in range(101)]\n",
    "\n",
    "far_from_100 = ([99.5 + random.random()] +\n",
    "                [random.random() for _ in range(50)] +\n",
    "                [200 + random.random() for _ in range(50)])"
   ]
  },
  {
   "cell_type": "code",
   "execution_count": 41,
   "metadata": {},
   "outputs": [
    {
     "name": "stdout",
     "output_type": "stream",
     "text": [
      "[100.07969501074561, 100.08761706417543, 100.08980118353116, 100.09628686158311, 100.09628686158311, 100.04869930383559, 100.04744091132842, 100.08980118353116, 100.05126724609055, 100.08338203945503, 100.16024537862239, 100.05126724609055, 100.09628686158311, 100.07565101416489, 100.1108869734438, 100.05126724609055, 100.08980118353116, 100.13014734041147, 100.09628686158311, 100.04059992494805, 100.08980118353116, 100.07969501074561, 100.1108869734438, 100.16024537862239, 100.11277317986861, 100.08761706417543, 100.07565101416489, 100.04028360697032, 100.1127831050407, 100.11277317986861, 100.06751074062068, 100.08980118353116, 100.11836899667533, 100.08980118353116, 100.11836899667533, 100.09628686158311, 100.11836899667533, 100.11836899667533, 100.06751074062068, 100.07565101416489, 100.13014734041147, 100.01127472136861, 100.09628686158311, 100.07565101416489, 100.09628686158311, 100.1127831050407, 100.08761706417543, 100.00794064252058, 100.07565101416489, 100.08338203945503, 100.04869930383559, 100.04869930383559, 100.07969501074561, 100.11277317986861, 100.09628686158311, 100.13014734041147, 100.04869930383559, 100.08338203945503, 100.1108869734438, 100.1127831050407, 100.23148922079085, 100.10318562796138, 100.08338203945503, 100.08338203945503, 100.04744091132842, 100.06751074062068, 100.07969501074561, 100.08761706417543, 100.08761706417543, 100.07565101416489, 100.08338203945503, 100.07969501074561, 100.05126724609055, 100.04059992494805, 100.11277317986861, 100.08980118353116, 100.09628686158311, 100.16815320123185, 100.11277317986861, 100.23148922079085, 100.04869930383559, 100.1127831050407, 100.13014734041147, 100.07969501074561, 100.09628686158311, 100.08980118353116, 100.08761706417543, 100.11277317986861, 100.16815320123185, 100.16024537862239, 100.08761706417543, 100.08761706417543, 100.07969501074561, 100.1108869734438, 100.08338203945503, 100.06751074062068, 100.04869930383559, 100.06751074062068, 100.1127831050407, 100.04744091132842]\n",
      "[200.01243631882932, 99.61713429320852, 200.19230954124467, 0.9882351487225011, 0.9665489030431832, 200.23941596018597, 200.25068733928512, 99.61713429320852, 0.9805166506472687, 200.01243631882932, 200.00152422185673, 0.9184820619953314, 0.9805166506472687, 0.9805166506472687, 0.8454245937016164, 0.8383265651934163, 0.9100160146990397, 200.00152422185673, 200.24013040782634, 0.9610312802396112, 99.61713429320852, 200.01243631882932, 200.19230954124467, 200.0467796859568, 0.9665489030431832, 0.8454245937016164, 200.00152422185673, 0.9665489030431832, 200.23941596018597, 0.9805166506472687, 200.01243631882932, 0.9100160146990397, 200.17481948445143, 0.9882351487225011, 0.9610312802396112, 0.8454245937016164, 200.17481948445143, 0.9610312802396112, 0.9184820619953314, 200.00152422185673, 99.61713429320852, 200.01243631882932, 0.9610312802396112, 0.9369691586445807, 200.00152422185673, 0.9805166506472687, 200.15768657212232, 200.0467796859568, 0.9665489030431832, 0.9805166506472687, 0.9100160146990397, 0.9882351487225011, 99.61713429320852, 200.15768657212232, 200.17481948445143, 200.01243631882932, 200.17481948445143, 200.0467796859568, 200.25093266482213, 200.23941596018597, 200.0456964935684, 0.8454245937016164, 200.24013040782634, 0.9369691586445807, 0.9665489030431832, 200.0456964935684, 200.00152422185673, 200.00152422185673, 0.9100160146990397, 200.28088316421835, 200.01243631882932, 0.7945829717105759, 200.19230954124467, 200.0456964935684, 0.9665489030431832, 0.9369691586445807, 0.9100160146990397, 0.8383265651934163, 0.9184820619953314, 0.9882351487225011, 200.00152422185673, 0.9100160146990397, 200.25068733928512, 200.24013040782634, 200.01243631882932, 200.00152422185673, 200.23941596018597, 0.8159130965336595, 0.9665489030431832, 0.9805166506472687, 200.01243631882932, 0.9100160146990397, 200.0456964935684, 0.8159130965336595, 200.0456964935684, 0.9369691586445807, 0.9100160146990397, 0.9882351487225011, 0.9610312802396112, 99.61713429320852]\n"
     ]
    }
   ],
   "source": [
    "from scratch.statistics import median, standard_deviation\n",
    "median_close = bootstrap_statistics(close_to_100,median,100)\n",
    "median_far = bootstrap_statistics(far_from_100,median,100)\n",
    "print(median_close)\n",
    "print(median_far)"
   ]
  },
  {
   "cell_type": "code",
   "execution_count": 42,
   "metadata": {},
   "outputs": [
    {
     "name": "stderr",
     "output_type": "stream",
     "text": [
      "least squares fit: 100%|████████████████████████████████████████████████████████| 5000/5000 [00:00<00:00, 62695.69it/s]\n",
      "least squares fit: 100%|████████████████████████████████████████████████████████| 5000/5000 [00:00<00:00, 64248.22it/s]\n",
      "least squares fit: 100%|████████████████████████████████████████████████████████| 5000/5000 [00:00<00:00, 65109.33it/s]\n",
      "least squares fit:   0%|                                                                      | 0/5000 [00:00<?, ?it/s]"
     ]
    },
    {
     "name": "stdout",
     "output_type": "stream",
     "text": [
      "bootstrap sample [nan, nan, nan]\n",
      "bootstrap sample [nan, nan, nan]\n",
      "bootstrap sample [nan, nan, nan]\n"
     ]
    },
    {
     "name": "stderr",
     "output_type": "stream",
     "text": [
      "least squares fit: 100%|████████████████████████████████████████████████████████| 5000/5000 [00:00<00:00, 57601.56it/s]\n",
      "least squares fit: 100%|████████████████████████████████████████████████████████| 5000/5000 [00:00<00:00, 65090.54it/s]\n",
      "least squares fit: 100%|████████████████████████████████████████████████████████| 5000/5000 [00:00<00:00, 61503.67it/s]\n",
      "least squares fit:   0%|                                                                      | 0/5000 [00:00<?, ?it/s]"
     ]
    },
    {
     "name": "stdout",
     "output_type": "stream",
     "text": [
      "bootstrap sample [nan, nan, nan]\n",
      "bootstrap sample [nan, nan, nan]\n",
      "bootstrap sample [nan, nan, nan]\n"
     ]
    },
    {
     "name": "stderr",
     "output_type": "stream",
     "text": [
      "least squares fit: 100%|████████████████████████████████████████████████████████| 5000/5000 [00:00<00:00, 64247.24it/s]\n",
      "least squares fit: 100%|████████████████████████████████████████████████████████| 5000/5000 [00:00<00:00, 65940.09it/s]\n",
      "least squares fit: 100%|████████████████████████████████████████████████████████| 5000/5000 [00:00<00:00, 65081.24it/s]\n",
      "least squares fit:   0%|                                                                      | 0/5000 [00:00<?, ?it/s]"
     ]
    },
    {
     "name": "stdout",
     "output_type": "stream",
     "text": [
      "bootstrap sample [nan, nan, nan]\n",
      "bootstrap sample [nan, nan, nan]\n",
      "bootstrap sample [nan, nan, nan]\n"
     ]
    },
    {
     "name": "stderr",
     "output_type": "stream",
     "text": [
      "least squares fit: 100%|████████████████████████████████████████████████████████| 5000/5000 [00:00<00:00, 64241.93it/s]\n",
      "least squares fit: 100%|████████████████████████████████████████████████████████| 5000/5000 [00:00<00:00, 65967.05it/s]\n",
      "least squares fit: 100%|████████████████████████████████████████████████████████| 5000/5000 [00:00<00:00, 64274.22it/s]\n",
      "least squares fit:   0%|                                                                      | 0/5000 [00:00<?, ?it/s]"
     ]
    },
    {
     "name": "stdout",
     "output_type": "stream",
     "text": [
      "bootstrap sample [nan, nan, nan]\n",
      "bootstrap sample [nan, nan, nan]\n",
      "bootstrap sample [nan, nan, nan]\n"
     ]
    },
    {
     "name": "stderr",
     "output_type": "stream",
     "text": [
      "least squares fit: 100%|████████████████████████████████████████████████████████| 5000/5000 [00:00<00:00, 64078.02it/s]\n",
      "least squares fit: 100%|████████████████████████████████████████████████████████| 5000/5000 [00:00<00:00, 62642.13it/s]\n",
      "least squares fit: 100%|████████████████████████████████████████████████████████| 5000/5000 [00:00<00:00, 59682.12it/s]\n",
      "least squares fit:   0%|                                                                      | 0/5000 [00:00<?, ?it/s]"
     ]
    },
    {
     "name": "stdout",
     "output_type": "stream",
     "text": [
      "bootstrap sample [nan, nan, nan]\n",
      "bootstrap sample [nan, nan, nan]\n",
      "bootstrap sample [nan, nan, nan]\n"
     ]
    },
    {
     "name": "stderr",
     "output_type": "stream",
     "text": [
      "least squares fit: 100%|████████████████████████████████████████████████████████| 5000/5000 [00:00<00:00, 61868.00it/s]\n",
      "least squares fit: 100%|████████████████████████████████████████████████████████| 5000/5000 [00:00<00:00, 62640.45it/s]\n",
      "least squares fit: 100%|████████████████████████████████████████████████████████| 5000/5000 [00:00<00:00, 65877.53it/s]\n",
      "least squares fit:   0%|                                                                      | 0/5000 [00:00<?, ?it/s]"
     ]
    },
    {
     "name": "stdout",
     "output_type": "stream",
     "text": [
      "bootstrap sample [nan, nan, nan]\n",
      "bootstrap sample [nan, nan, nan]\n",
      "bootstrap sample [nan, nan, nan]\n"
     ]
    },
    {
     "name": "stderr",
     "output_type": "stream",
     "text": [
      "least squares fit: 100%|████████████████████████████████████████████████████████| 5000/5000 [00:00<00:00, 61116.33it/s]\n",
      "least squares fit: 100%|████████████████████████████████████████████████████████| 5000/5000 [00:00<00:00, 61873.29it/s]\n",
      "least squares fit: 100%|████████████████████████████████████████████████████████| 5000/5000 [00:00<00:00, 61159.82it/s]\n",
      "least squares fit:   0%|                                                                      | 0/5000 [00:00<?, ?it/s]"
     ]
    },
    {
     "name": "stdout",
     "output_type": "stream",
     "text": [
      "bootstrap sample [nan, nan, nan]\n",
      "bootstrap sample [nan, nan, nan]\n",
      "bootstrap sample [nan, nan, nan]\n"
     ]
    },
    {
     "name": "stderr",
     "output_type": "stream",
     "text": [
      "least squares fit: 100%|████████████████████████████████████████████████████████| 5000/5000 [00:00<00:00, 62666.84it/s]\n",
      "least squares fit: 100%|████████████████████████████████████████████████████████| 5000/5000 [00:00<00:00, 58956.62it/s]\n",
      "least squares fit: 100%|████████████████████████████████████████████████████████| 5000/5000 [00:00<00:00, 64298.46it/s]\n",
      "least squares fit:   0%|                                                                      | 0/5000 [00:00<?, ?it/s]"
     ]
    },
    {
     "name": "stdout",
     "output_type": "stream",
     "text": [
      "bootstrap sample [nan, nan, nan]\n",
      "bootstrap sample [nan, nan, nan]\n",
      "bootstrap sample [nan, nan, nan]\n"
     ]
    },
    {
     "name": "stderr",
     "output_type": "stream",
     "text": [
      "least squares fit: 100%|████████████████████████████████████████████████████████| 5000/5000 [00:00<00:00, 65958.55it/s]\n",
      "least squares fit: 100%|████████████████████████████████████████████████████████| 5000/5000 [00:00<00:00, 65939.05it/s]\n",
      "least squares fit: 100%|████████████████████████████████████████████████████████| 5000/5000 [00:00<00:00, 52225.51it/s]\n",
      "least squares fit:   0%|                                                                      | 0/5000 [00:00<?, ?it/s]"
     ]
    },
    {
     "name": "stdout",
     "output_type": "stream",
     "text": [
      "bootstrap sample [nan, nan, nan]\n",
      "bootstrap sample [nan, nan, nan]\n",
      "bootstrap sample [nan, nan, nan]\n"
     ]
    },
    {
     "name": "stderr",
     "output_type": "stream",
     "text": [
      "least squares fit: 100%|████████████████████████████████████████████████████████| 5000/5000 [00:00<00:00, 62667.21it/s]\n",
      "least squares fit: 100%|████████████████████████████████████████████████████████| 5000/5000 [00:00<00:00, 65083.47it/s]\n",
      "least squares fit: 100%|████████████████████████████████████████████████████████| 5000/5000 [00:00<00:00, 59680.59it/s]\n",
      "least squares fit:   0%|                                                                      | 0/5000 [00:00<?, ?it/s]"
     ]
    },
    {
     "name": "stdout",
     "output_type": "stream",
     "text": [
      "bootstrap sample [nan, nan, nan]\n",
      "bootstrap sample [nan, nan, nan]\n",
      "bootstrap sample [nan, nan, nan]\n"
     ]
    },
    {
     "name": "stderr",
     "output_type": "stream",
     "text": [
      "least squares fit: 100%|████████████████████████████████████████████████████████| 5000/5000 [00:00<00:00, 62667.03it/s]\n",
      "least squares fit: 100%|████████████████████████████████████████████████████████| 5000/5000 [00:00<00:00, 59706.24it/s]\n",
      "least squares fit: 100%|████████████████████████████████████████████████████████| 5000/5000 [00:00<00:00, 62668.15it/s]\n",
      "least squares fit: 100%|████████████████████████████████████████████████████████| 5000/5000 [00:00<00:00, 61893.75it/s]"
     ]
    },
    {
     "name": "stdout",
     "output_type": "stream",
     "text": [
      "bootstrap sample [nan, nan, nan]\n",
      "bootstrap sample [nan, nan, nan]\n",
      "bootstrap sample [nan, nan, nan]\n"
     ]
    },
    {
     "name": "stderr",
     "output_type": "stream",
     "text": [
      "\n",
      "least squares fit: 100%|████████████████████████████████████████████████████████| 5000/5000 [00:00<00:00, 62667.77it/s]\n",
      "least squares fit: 100%|████████████████████████████████████████████████████████| 5000/5000 [00:00<00:00, 63436.07it/s]\n",
      "least squares fit: 100%|████████████████████████████████████████████████████████| 5000/5000 [00:00<00:00, 65085.08it/s]"
     ]
    },
    {
     "name": "stdout",
     "output_type": "stream",
     "text": [
      "bootstrap sample [nan, nan, nan]\n",
      "bootstrap sample [nan, nan, nan]\n",
      "bootstrap sample [nan, nan, nan]\n"
     ]
    },
    {
     "name": "stderr",
     "output_type": "stream",
     "text": [
      "\n",
      "least squares fit: 100%|████████████████████████████████████████████████████████| 5000/5000 [00:00<00:00, 62644.56it/s]\n",
      "least squares fit: 100%|████████████████████████████████████████████████████████| 5000/5000 [00:00<00:00, 61892.65it/s]\n",
      "least squares fit: 100%|████████████████████████████████████████████████████████| 5000/5000 [00:00<00:00, 58266.04it/s]"
     ]
    },
    {
     "name": "stdout",
     "output_type": "stream",
     "text": [
      "bootstrap sample [nan, nan, nan]\n",
      "bootstrap sample [nan, nan, nan]\n",
      "bootstrap sample [nan, nan, nan]\n"
     ]
    },
    {
     "name": "stderr",
     "output_type": "stream",
     "text": [
      "\n",
      "least squares fit: 100%|████████████████████████████████████████████████████████| 5000/5000 [00:00<00:00, 61891.74it/s]\n",
      "least squares fit: 100%|████████████████████████████████████████████████████████| 5000/5000 [00:00<00:00, 54474.59it/s]\n",
      "least squares fit:   0%|                                                                      | 0/5000 [00:00<?, ?it/s]"
     ]
    },
    {
     "name": "stdout",
     "output_type": "stream",
     "text": [
      "bootstrap sample [nan, nan, nan]\n",
      "bootstrap sample [nan, nan, nan]\n",
      "bootstrap sample [nan, nan, nan]\n"
     ]
    },
    {
     "name": "stderr",
     "output_type": "stream",
     "text": [
      "least squares fit: 100%|████████████████████████████████████████████████████████| 5000/5000 [00:00<00:00, 60376.98it/s]\n",
      "least squares fit: 100%|████████████████████████████████████████████████████████| 5000/5000 [00:00<00:00, 45981.81it/s]\n",
      "least squares fit: 100%|████████████████████████████████████████████████████████| 5000/5000 [00:00<00:00, 65080.84it/s]"
     ]
    },
    {
     "name": "stdout",
     "output_type": "stream",
     "text": [
      "bootstrap sample [nan, nan, nan]\n",
      "bootstrap sample [nan, nan, nan]\n"
     ]
    },
    {
     "name": "stderr",
     "output_type": "stream",
     "text": [
      "\n",
      "least squares fit: 100%|████████████████████████████████████████████████████████| 5000/5000 [00:00<00:00, 52773.68it/s]\n",
      "least squares fit: 100%|████████████████████████████████████████████████████████| 5000/5000 [00:00<00:00, 65082.66it/s]\n",
      "least squares fit:   0%|                                                                      | 0/5000 [00:00<?, ?it/s]"
     ]
    },
    {
     "name": "stdout",
     "output_type": "stream",
     "text": [
      "bootstrap sample [nan, nan, nan]\n",
      "bootstrap sample [nan, nan, nan]\n",
      "bootstrap sample [nan, nan, nan]\n"
     ]
    },
    {
     "name": "stderr",
     "output_type": "stream",
     "text": [
      "least squares fit: 100%|████████████████████████████████████████████████████████| 5000/5000 [00:00<00:00, 64248.62it/s]\n",
      "least squares fit: 100%|████████████████████████████████████████████████████████| 5000/5000 [00:00<00:00, 64248.62it/s]\n",
      "least squares fit: 100%|████████████████████████████████████████████████████████| 5000/5000 [00:00<00:00, 65081.65it/s]\n",
      "least squares fit: 100%|████████████████████████████████████████████████████████| 5000/5000 [00:00<00:00, 64247.83it/s]"
     ]
    },
    {
     "name": "stdout",
     "output_type": "stream",
     "text": [
      "bootstrap sample [nan, nan, nan]\n",
      "bootstrap sample [nan, nan, nan]\n",
      "bootstrap sample [nan, nan, nan]\n"
     ]
    },
    {
     "name": "stderr",
     "output_type": "stream",
     "text": [
      "\n",
      "least squares fit: 100%|████████████████████████████████████████████████████████| 5000/5000 [00:00<00:00, 61870.37it/s]\n",
      "least squares fit: 100%|████████████████████████████████████████████████████████| 5000/5000 [00:00<00:00, 64314.82it/s]\n",
      "least squares fit:   0%|                                                                      | 0/5000 [00:00<?, ?it/s]"
     ]
    },
    {
     "name": "stdout",
     "output_type": "stream",
     "text": [
      "bootstrap sample [nan, nan, nan]\n",
      "bootstrap sample [nan, nan, nan]\n",
      "bootstrap sample [nan, nan, nan]\n"
     ]
    },
    {
     "name": "stderr",
     "output_type": "stream",
     "text": [
      "least squares fit: 100%|████████████████████████████████████████████████████████| 5000/5000 [00:00<00:00, 60375.41it/s]\n",
      "least squares fit: 100%|████████████████████████████████████████████████████████| 5000/5000 [00:00<00:00, 66846.19it/s]\n",
      "least squares fit: 100%|████████████████████████████████████████████████████████| 5000/5000 [00:00<00:00, 65939.67it/s]\n",
      "least squares fit:   0%|                                                                      | 0/5000 [00:00<?, ?it/s]"
     ]
    },
    {
     "name": "stdout",
     "output_type": "stream",
     "text": [
      "bootstrap sample [nan, nan, nan]\n",
      "bootstrap sample [nan, nan, nan]\n",
      "bootstrap sample [nan, nan, nan]\n"
     ]
    },
    {
     "name": "stderr",
     "output_type": "stream",
     "text": [
      "least squares fit: 100%|████████████████████████████████████████████████████████| 5000/5000 [00:00<00:00, 63435.68it/s]\n",
      "least squares fit: 100%|████████████████████████████████████████████████████████| 5000/5000 [00:00<00:00, 66816.16it/s]\n",
      "least squares fit: 100%|████████████████████████████████████████████████████████| 5000/5000 [00:00<00:00, 64275.60it/s]\n",
      "least squares fit:   0%|                                                                      | 0/5000 [00:00<?, ?it/s]"
     ]
    },
    {
     "name": "stdout",
     "output_type": "stream",
     "text": [
      "bootstrap sample [nan, nan, nan]\n",
      "bootstrap sample [nan, nan, nan]\n",
      "bootstrap sample [nan, nan, nan]\n"
     ]
    },
    {
     "name": "stderr",
     "output_type": "stream",
     "text": [
      "least squares fit: 100%|████████████████████████████████████████████████████████| 5000/5000 [00:00<00:00, 56309.36it/s]\n",
      "least squares fit: 100%|████████████████████████████████████████████████████████| 5000/5000 [00:00<00:00, 56970.18it/s]\n",
      "least squares fit: 100%|████████████████████████████████████████████████████████| 5000/5000 [00:00<00:00, 61172.85it/s]\n",
      "least squares fit:   0%|                                                                      | 0/5000 [00:00<?, ?it/s]"
     ]
    },
    {
     "name": "stdout",
     "output_type": "stream",
     "text": [
      "bootstrap sample [nan, nan, nan]\n",
      "bootstrap sample [nan, nan, nan]\n",
      "bootstrap sample [nan, nan, nan]\n"
     ]
    },
    {
     "name": "stderr",
     "output_type": "stream",
     "text": [
      "least squares fit: 100%|████████████████████████████████████████████████████████| 5000/5000 [00:00<00:00, 61872.20it/s]\n",
      "least squares fit: 100%|████████████████████████████████████████████████████████| 5000/5000 [00:00<00:00, 67719.75it/s]\n",
      "least squares fit: 100%|████████████████████████████████████████████████████████| 5000/5000 [00:00<00:00, 56331.44it/s]\n",
      "least squares fit:   0%|                                                                      | 0/5000 [00:00<?, ?it/s]"
     ]
    },
    {
     "name": "stdout",
     "output_type": "stream",
     "text": [
      "bootstrap sample [nan, nan, nan]\n",
      "bootstrap sample [nan, nan, nan]\n",
      "bootstrap sample [nan, nan, nan]\n"
     ]
    },
    {
     "name": "stderr",
     "output_type": "stream",
     "text": [
      "least squares fit: 100%|████████████████████████████████████████████████████████| 5000/5000 [00:00<00:00, 55685.57it/s]\n",
      "least squares fit: 100%|████████████████████████████████████████████████████████| 5000/5000 [00:00<00:00, 63461.79it/s]\n",
      "least squares fit: 100%|████████████████████████████████████████████████████████| 5000/5000 [00:00<00:00, 64246.45it/s]\n",
      "least squares fit:   0%|                                                                      | 0/5000 [00:00<?, ?it/s]"
     ]
    },
    {
     "name": "stdout",
     "output_type": "stream",
     "text": [
      "bootstrap sample [nan, nan, nan]\n",
      "bootstrap sample [nan, nan, nan]\n",
      "bootstrap sample [nan, nan, nan]\n"
     ]
    },
    {
     "name": "stderr",
     "output_type": "stream",
     "text": [
      "least squares fit: 100%|████████████████████████████████████████████████████████| 5000/5000 [00:00<00:00, 65095.79it/s]\n",
      "least squares fit: 100%|████████████████████████████████████████████████████████| 5000/5000 [00:00<00:00, 62641.01it/s]\n",
      "least squares fit: 100%|████████████████████████████████████████████████████████| 5000/5000 [00:00<00:00, 61874.39it/s]\n",
      "least squares fit:   0%|                                                                      | 0/5000 [00:00<?, ?it/s]"
     ]
    },
    {
     "name": "stdout",
     "output_type": "stream",
     "text": [
      "bootstrap sample [nan, nan, nan]\n",
      "bootstrap sample [nan, nan, nan]\n",
      "bootstrap sample [nan, nan, nan]\n"
     ]
    },
    {
     "name": "stderr",
     "output_type": "stream",
     "text": [
      "least squares fit: 100%|████████████████████████████████████████████████████████| 5000/5000 [00:00<00:00, 55092.38it/s]\n",
      "least squares fit: 100%|████████████████████████████████████████████████████████| 5000/5000 [00:00<00:00, 66842.78it/s]\n",
      "least squares fit: 100%|████████████████████████████████████████████████████████| 5000/5000 [00:00<00:00, 63462.56it/s]\n",
      "least squares fit:   0%|                                                                      | 0/5000 [00:00<?, ?it/s]"
     ]
    },
    {
     "name": "stdout",
     "output_type": "stream",
     "text": [
      "bootstrap sample [nan, nan, nan]\n",
      "bootstrap sample [nan, nan, nan]\n",
      "bootstrap sample [nan, nan, nan]\n"
     ]
    },
    {
     "name": "stderr",
     "output_type": "stream",
     "text": [
      "least squares fit: 100%|████████████████████████████████████████████████████████| 5000/5000 [00:00<00:00, 64277.37it/s]\n",
      "least squares fit: 100%|████████████████████████████████████████████████████████| 5000/5000 [00:00<00:00, 66845.76it/s]\n",
      "least squares fit: 100%|████████████████████████████████████████████████████████| 5000/5000 [00:00<00:00, 61113.13it/s]\n",
      "least squares fit: 100%|████████████████████████████████████████████████████████| 5000/5000 [00:00<00:00, 65931.17it/s]"
     ]
    },
    {
     "name": "stdout",
     "output_type": "stream",
     "text": [
      "bootstrap sample [nan, nan, nan]\n",
      "bootstrap sample [nan, nan, nan]\n",
      "bootstrap sample [nan, nan, nan]\n"
     ]
    },
    {
     "name": "stderr",
     "output_type": "stream",
     "text": [
      "\n",
      "least squares fit: 100%|████████████████████████████████████████████████████████| 5000/5000 [00:00<00:00, 65081.24it/s]\n",
      "least squares fit: 100%|████████████████████████████████████████████████████████| 5000/5000 [00:00<00:00, 65081.04it/s]\n",
      "least squares fit:   0%|                                                                      | 0/5000 [00:00<?, ?it/s]"
     ]
    },
    {
     "name": "stdout",
     "output_type": "stream",
     "text": [
      "bootstrap sample [nan, nan, nan]\n",
      "bootstrap sample [nan, nan, nan]\n",
      "bootstrap sample [nan, nan, nan]\n"
     ]
    },
    {
     "name": "stderr",
     "output_type": "stream",
     "text": [
      "least squares fit: 100%|████████████████████████████████████████████████████████| 5000/5000 [00:00<00:00, 61690.56it/s]\n",
      "least squares fit: 100%|████████████████████████████████████████████████████████| 5000/5000 [00:00<00:00, 65936.15it/s]\n",
      "least squares fit: 100%|████████████████████████████████████████████████████████| 5000/5000 [00:00<00:00, 61138.61it/s]\n",
      "least squares fit:   0%|                                                                      | 0/5000 [00:00<?, ?it/s]"
     ]
    },
    {
     "name": "stdout",
     "output_type": "stream",
     "text": [
      "bootstrap sample [nan, nan, nan]\n",
      "bootstrap sample [nan, nan, nan]\n",
      "bootstrap sample [nan, nan, nan]\n"
     ]
    },
    {
     "name": "stderr",
     "output_type": "stream",
     "text": [
      "least squares fit: 100%|████████████████████████████████████████████████████████| 5000/5000 [00:00<00:00, 62667.59it/s]\n",
      "least squares fit: 100%|████████████████████████████████████████████████████████| 5000/5000 [00:00<00:00, 61894.48it/s]\n",
      "least squares fit: 100%|████████████████████████████████████████████████████████| 5000/5000 [00:00<00:00, 64274.81it/s]\n",
      "least squares fit:   0%|                                                                      | 0/5000 [00:00<?, ?it/s]"
     ]
    },
    {
     "name": "stdout",
     "output_type": "stream",
     "text": [
      "bootstrap sample [nan, nan, nan]\n",
      "bootstrap sample [nan, nan, nan]\n",
      "bootstrap sample [nan, nan, nan]\n"
     ]
    },
    {
     "name": "stderr",
     "output_type": "stream",
     "text": [
      "least squares fit: 100%|████████████████████████████████████████████████████████| 5000/5000 [00:00<00:00, 62667.77it/s]\n",
      "least squares fit: 100%|████████████████████████████████████████████████████████| 5000/5000 [00:00<00:00, 60402.54it/s]\n",
      "least squares fit: 100%|████████████████████████████████████████████████████████| 5000/5000 [00:00<00:00, 64275.79it/s]\n",
      "least squares fit:   0%|                                                                      | 0/5000 [00:00<?, ?it/s]"
     ]
    },
    {
     "name": "stdout",
     "output_type": "stream",
     "text": [
      "bootstrap sample [nan, nan, nan]\n",
      "bootstrap sample [nan, nan, nan]\n",
      "bootstrap sample [nan, nan, nan]\n"
     ]
    },
    {
     "name": "stderr",
     "output_type": "stream",
     "text": [
      "least squares fit: 100%|████████████████████████████████████████████████████████| 5000/5000 [00:00<00:00, 64274.41it/s]\n",
      "least squares fit: 100%|████████████████████████████████████████████████████████| 5000/5000 [00:00<00:00, 64274.22it/s]\n",
      "least squares fit: 100%|████████████████████████████████████████████████████████| 5000/5000 [00:00<00:00, 62641.76it/s]\n",
      "least squares fit:   0%|                                                                      | 0/5000 [00:00<?, ?it/s]"
     ]
    },
    {
     "name": "stdout",
     "output_type": "stream",
     "text": [
      "bootstrap sample [nan, nan, nan]\n",
      "bootstrap sample [nan, nan, nan]\n",
      "bootstrap sample [nan, nan, nan]\n"
     ]
    },
    {
     "name": "stderr",
     "output_type": "stream",
     "text": [
      "least squares fit: 100%|████████████████████████████████████████████████████████| 5000/5000 [00:00<00:00, 61867.27it/s]\n",
      "least squares fit: 100%|████████████████████████████████████████████████████████| 5000/5000 [00:00<00:00, 59683.65it/s]\n",
      "least squares fit: 100%|████████████████████████████████████████████████████████| 5000/5000 [00:00<00:00, 58957.95it/s]\n",
      "least squares fit:   0%|                                                                      | 0/5000 [00:00<?, ?it/s]"
     ]
    },
    {
     "name": "stdout",
     "output_type": "stream",
     "text": [
      "bootstrap sample [nan, nan, nan]\n",
      "bootstrap sample [nan, nan, nan]\n",
      "bootstrap sample [nan, nan, nan]\n"
     ]
    },
    {
     "name": "stderr",
     "output_type": "stream",
     "text": [
      "least squares fit: 100%|████████████████████████████████████████████████████████| 5000/5000 [00:00<00:00, 59658.35it/s]\n",
      "least squares fit: 100%|████████████████████████████████████████████████████████| 5000/5000 [00:00<00:00, 49150.58it/s]\n",
      "least squares fit: 100%|████████████████████████████████████████████████████████| 5000/5000 [00:00<00:00, 65109.13it/s]"
     ]
    },
    {
     "name": "stdout",
     "output_type": "stream",
     "text": [
      "bootstrap sample [nan, nan, nan]\n",
      "bootstrap sample [nan, nan, nan]\n"
     ]
    },
    {
     "name": "stderr",
     "output_type": "stream",
     "text": [
      "\n",
      "least squares fit: 100%|████████████████████████████████████████████████████████| 5000/5000 [00:00<00:00, 65967.68it/s]\n",
      "least squares fit: 100%|████████████████████████████████████████████████████████| 5000/5000 [00:00<00:00, 65081.04it/s]"
     ]
    },
    {
     "name": "stdout",
     "output_type": "stream",
     "text": [
      "bootstrap sample [nan, nan, nan]\n",
      "bootstrap sample [nan, nan, nan]\n",
      "bootstrap sample [nan, nan, nan]\n"
     ]
    },
    {
     "name": "stderr",
     "output_type": "stream",
     "text": [
      "\n"
     ]
    }
   ],
   "source": [
    "from typing import Tuple\n",
    "import datetime\n",
    "\n",
    "def estimate_sample_beta(pairs:List[Tuple[Vector,float]]):\n",
    "    x_sample = [x for x, _ in pairs]\n",
    "    y_sample = [y for _, y in pairs]\n",
    "    beta  = least_squares_fit(x_sample,y_sample,learning_rate,5000,25)\n",
    "    print(\"bootstrap sample\",beta)\n",
    "    return beta\n",
    "\n",
    "random.seed(0)\n",
    "bootstrap_betas = bootstrap_statistics(list(zip(inputs, daily_minutes_good)),\n",
    "estimate_sample_beta,\n",
    "100)\n",
    "# ERROR ( no 'inputs' variable defined )"
   ]
  },
  {
   "cell_type": "code",
   "execution_count": 43,
   "metadata": {},
   "outputs": [
    {
     "ename": "IndexError",
     "evalue": "list index out of range",
     "output_type": "error",
     "traceback": [
      "\u001b[1;31m---------------------------------------------------------------------------\u001b[0m",
      "\u001b[1;31mIndexError\u001b[0m                                Traceback (most recent call last)",
      "\u001b[1;32m<ipython-input-43-23c327176089>\u001b[0m in \u001b[0;36m<module>\u001b[1;34m\u001b[0m\n\u001b[0;32m      1\u001b[0m bootstrap_standard_errors = [\n\u001b[0;32m      2\u001b[0m \u001b[0mstandard_deviation\u001b[0m\u001b[1;33m(\u001b[0m\u001b[1;33m[\u001b[0m\u001b[0mbeta\u001b[0m\u001b[1;33m[\u001b[0m\u001b[0mi\u001b[0m\u001b[1;33m]\u001b[0m \u001b[1;32mfor\u001b[0m \u001b[0mbeta\u001b[0m \u001b[1;32min\u001b[0m \u001b[0mbootstrap_betas\u001b[0m\u001b[1;33m]\u001b[0m\u001b[1;33m)\u001b[0m\u001b[1;33m\u001b[0m\u001b[1;33m\u001b[0m\u001b[0m\n\u001b[1;32m----> 3\u001b[1;33m for i in range(4)]\n\u001b[0m\u001b[0;32m      4\u001b[0m \u001b[0mprint\u001b[0m\u001b[1;33m(\u001b[0m\u001b[0mbootstrap_standard_errors\u001b[0m\u001b[1;33m)\u001b[0m\u001b[1;33m\u001b[0m\u001b[1;33m\u001b[0m\u001b[0m\n\u001b[0;32m      5\u001b[0m \u001b[1;31m# ERROR ( no 'inputs' variable defined )\u001b[0m\u001b[1;33m\u001b[0m\u001b[1;33m\u001b[0m\u001b[1;33m\u001b[0m\u001b[0m\n",
      "\u001b[1;32m<ipython-input-43-23c327176089>\u001b[0m in \u001b[0;36m<listcomp>\u001b[1;34m(.0)\u001b[0m\n\u001b[0;32m      1\u001b[0m bootstrap_standard_errors = [\n\u001b[0;32m      2\u001b[0m \u001b[0mstandard_deviation\u001b[0m\u001b[1;33m(\u001b[0m\u001b[1;33m[\u001b[0m\u001b[0mbeta\u001b[0m\u001b[1;33m[\u001b[0m\u001b[0mi\u001b[0m\u001b[1;33m]\u001b[0m \u001b[1;32mfor\u001b[0m \u001b[0mbeta\u001b[0m \u001b[1;32min\u001b[0m \u001b[0mbootstrap_betas\u001b[0m\u001b[1;33m]\u001b[0m\u001b[1;33m)\u001b[0m\u001b[1;33m\u001b[0m\u001b[1;33m\u001b[0m\u001b[0m\n\u001b[1;32m----> 3\u001b[1;33m for i in range(4)]\n\u001b[0m\u001b[0;32m      4\u001b[0m \u001b[0mprint\u001b[0m\u001b[1;33m(\u001b[0m\u001b[0mbootstrap_standard_errors\u001b[0m\u001b[1;33m)\u001b[0m\u001b[1;33m\u001b[0m\u001b[1;33m\u001b[0m\u001b[0m\n\u001b[0;32m      5\u001b[0m \u001b[1;31m# ERROR ( no 'inputs' variable defined )\u001b[0m\u001b[1;33m\u001b[0m\u001b[1;33m\u001b[0m\u001b[1;33m\u001b[0m\u001b[0m\n",
      "\u001b[1;32m<ipython-input-43-23c327176089>\u001b[0m in \u001b[0;36m<listcomp>\u001b[1;34m(.0)\u001b[0m\n\u001b[0;32m      1\u001b[0m bootstrap_standard_errors = [\n\u001b[1;32m----> 2\u001b[1;33m \u001b[0mstandard_deviation\u001b[0m\u001b[1;33m(\u001b[0m\u001b[1;33m[\u001b[0m\u001b[0mbeta\u001b[0m\u001b[1;33m[\u001b[0m\u001b[0mi\u001b[0m\u001b[1;33m]\u001b[0m \u001b[1;32mfor\u001b[0m \u001b[0mbeta\u001b[0m \u001b[1;32min\u001b[0m \u001b[0mbootstrap_betas\u001b[0m\u001b[1;33m]\u001b[0m\u001b[1;33m)\u001b[0m\u001b[1;33m\u001b[0m\u001b[1;33m\u001b[0m\u001b[0m\n\u001b[0m\u001b[0;32m      3\u001b[0m for i in range(4)]\n\u001b[0;32m      4\u001b[0m \u001b[0mprint\u001b[0m\u001b[1;33m(\u001b[0m\u001b[0mbootstrap_standard_errors\u001b[0m\u001b[1;33m)\u001b[0m\u001b[1;33m\u001b[0m\u001b[1;33m\u001b[0m\u001b[0m\n\u001b[0;32m      5\u001b[0m \u001b[1;31m# ERROR ( no 'inputs' variable defined )\u001b[0m\u001b[1;33m\u001b[0m\u001b[1;33m\u001b[0m\u001b[1;33m\u001b[0m\u001b[0m\n",
      "\u001b[1;31mIndexError\u001b[0m: list index out of range"
     ]
    }
   ],
   "source": [
    "bootstrap_standard_errors = [\n",
    "                    standard_deviation([beta[i] for beta in bootstrap_betas])\n",
    "for i in range(4)]\n",
    "print(bootstrap_standard_errors)\n",
    "# ERROR ( no 'inputs' variable defined )"
   ]
  },
  {
   "cell_type": "code",
   "execution_count": null,
   "metadata": {},
   "outputs": [],
   "source": [
    "from scratch.probability import normal_cdf\n",
    "\n",
    "def p_value(beta_hat_j: float, sigma_hat_j:float) -> float:\n",
    "    if beta_hat_j > 0:\n",
    "        return 2 * (1 - normal_cdf(beta_hat_j/sigma_hat_j))\n",
    "    else:\n",
    "        return 2 * normal_cdf(beta_hat_j/sigma_hat_j)"
   ]
  },
  {
   "cell_type": "code",
   "execution_count": null,
   "metadata": {},
   "outputs": [],
   "source": [
    "assert p_value(30.58, 1.27) < 0.001 # constant term\n",
    "assert p_value(0.972, 0.103) < 0.001 # num_friends"
   ]
  },
  {
   "cell_type": "markdown",
   "metadata": {},
   "source": [
    "<b>Regularization</b>"
   ]
  },
  {
   "cell_type": "code",
   "execution_count": 44,
   "metadata": {},
   "outputs": [],
   "source": [
    "def ridge_penalty(beta:Vector, alpha:float)->float:\n",
    "    return alpha*dot(beta[1:],beta[1:])"
   ]
  },
  {
   "cell_type": "code",
   "execution_count": 45,
   "metadata": {},
   "outputs": [],
   "source": [
    "def squared_error_ridge(x: Vector,\n",
    "                        y: float,\n",
    "                        beta: Vector,\n",
    "                        alpha: float) -> float:\n",
    "    return error(x, y, beta) ** 2 + ridge_penalty(beta, alpha)\n",
    "\n",
    "\n",
    "\n",
    "from scratch.linear_algebra import add\n",
    "\n",
    "def ridge_penalty_gradient(beta: Vector, alpha: float) -> Vector:\n",
    "    return [0.] + [2 * alpha * beta_j for beta_j in beta[1:]]\n",
    "\n",
    "def sqerror_ridge_gradient(x: Vector,\n",
    "                            y: float,\n",
    "                            beta: Vector,\n",
    "                            alpha: float) -> Vector:            \n",
    "    return add(sqerror_gradient(x, y, beta),\n",
    "                ridge_penalty_gradient(beta, alpha))\n",
    "\n",
    "\n",
    "def least_squares_fit_ridge(xs:List[Vector],\n",
    "                     ys:List[float],\n",
    "                     learning_rate: float=0.001,\n",
    "                     num_steps: int = 1000,\n",
    "                     batch_size: int = 1) -> Vector:\n",
    "    guess = [random.random() for _ in xs[0]]\n",
    "    for _ in tqdm.trange(num_steps, desc='least squares fit'):\n",
    "        for start in range(0, len(x), batch_size):\n",
    "            batch_xs = xs[start:start+batch_size]\n",
    "            batch_ys = ys[start:start+batch_size]\n",
    "            gradient = vector_mean([ sqerror_ridge_gradient(x,y,guess)\n",
    "                                      for x,y in zip(batch_xs,batch_ys)])\n",
    "            guess = gradient_step(guess,gradient,-learning_rate)\n",
    "    return guess"
   ]
  },
  {
   "cell_type": "code",
   "execution_count": 46,
   "metadata": {},
   "outputs": [
    {
     "ename": "TypeError",
     "evalue": "least_squares_fit_ridge() takes from 2 to 5 positional arguments but 6 were given",
     "output_type": "error",
     "traceback": [
      "\u001b[1;31m---------------------------------------------------------------------------\u001b[0m",
      "\u001b[1;31mTypeError\u001b[0m                                 Traceback (most recent call last)",
      "\u001b[1;32m<ipython-input-46-9436f24edef0>\u001b[0m in \u001b[0;36m<module>\u001b[1;34m\u001b[0m\n\u001b[0;32m      1\u001b[0m \u001b[0mrandom\u001b[0m\u001b[1;33m.\u001b[0m\u001b[0mseed\u001b[0m\u001b[1;33m(\u001b[0m\u001b[1;36m0\u001b[0m\u001b[1;33m)\u001b[0m\u001b[1;33m\u001b[0m\u001b[1;33m\u001b[0m\u001b[0m\n\u001b[0;32m      2\u001b[0m beta_0 = least_squares_fit_ridge(inputs, daily_minutes_good, 0.0, # alpha\n\u001b[1;32m----> 3\u001b[1;33m learning_rate, 5000, 25)\n\u001b[0m\u001b[0;32m      4\u001b[0m \u001b[1;33m\u001b[0m\u001b[0m\n\u001b[0;32m      5\u001b[0m \u001b[1;33m\u001b[0m\u001b[0m\n",
      "\u001b[1;31mTypeError\u001b[0m: least_squares_fit_ridge() takes from 2 to 5 positional arguments but 6 were given"
     ]
    }
   ],
   "source": [
    "random.seed(0)\n",
    "beta_0 = least_squares_fit_ridge(inputs, daily_minutes_good, 0.0, # alpha\n",
    "learning_rate, 5000, 25)\n",
    "\n",
    "\n",
    "# [30.51, 0.97, -1.85, 0.91]\n",
    "assert 5 < dot(beta_0[1:], beta_0[1:]) < 6\n",
    "assert 0.67 < multiple_r_squared(inputs, daily_minutes_good, beta_0) < 0.69\n",
    "# ERROR ( no 'inputs' variable defined )\n",
    "beta_0_1 = least_squares_fit_ridge(inputs, daily_minutes_good, 0.1, # alpha\n",
    "learning_rate, 5000, 25)\n",
    "# [30.8, 0.95, -1.83, 0.54]\n",
    "assert 4 < dot(beta_0_1[1:], beta_0_1[1:]) < 5\n",
    "assert 0.67 < multiple_r_squared(inputs, daily_minutes_good, beta_0_1) < 0.69\n",
    "beta_1 = least_squares_fit_ridge(inputs, daily_minutes_good, 1, # alpha\n",
    "learning_rate, 5000, 25)\n",
    "# [30.6, 0.90, -1.68, 0.10]\n",
    "assert 3 < dot(beta_1[1:], beta_1[1:]) < 4\n",
    "assert 0.67 < multiple_r_squared(inputs, daily_minutes_good, beta_1) < 0.69\n",
    "beta_10 = least_squares_fit_ridge(inputs, daily_minutes_good,10, # alpha\n",
    "learning_rate, 5000, 25)\n",
    "# [28.3, 0.67, -0.90, -0.01]\n",
    "assert 1 < dot(beta_10[1:], beta_10[1:]) < 2\n",
    "assert 0.5 < multiple_r_squared(inputs, daily_minutes_good, beta_10) < 0.6"
   ]
  },
  {
   "cell_type": "code",
   "execution_count": 47,
   "metadata": {},
   "outputs": [],
   "source": [
    "def lasso_penalty(beta, alpha):\n",
    "    return alpha * sum(abs(beta_i) for beta_i in beta[1:])"
   ]
  },
  {
   "cell_type": "code",
   "execution_count": null,
   "metadata": {},
   "outputs": [],
   "source": []
  }
 ],
 "metadata": {
  "kernelspec": {
   "display_name": "tensorflow_gpu",
   "language": "python",
   "name": "tensorflow_gpu"
  },
  "language_info": {
   "codemirror_mode": {
    "name": "ipython",
    "version": 3
   },
   "file_extension": ".py",
   "mimetype": "text/x-python",
   "name": "python",
   "nbconvert_exporter": "python",
   "pygments_lexer": "ipython3",
   "version": "3.7.9"
  }
 },
 "nbformat": 4,
 "nbformat_minor": 4
}
